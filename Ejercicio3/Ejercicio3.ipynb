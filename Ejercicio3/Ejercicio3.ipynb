{
 "cells": [
  {
   "cell_type": "markdown",
   "metadata": {
    "id": "sZd5yLnnHOK0"
   },
   "source": [
    "<img src=\"https://github.com/hernancontigiani/ceia_memorias_especializacion/raw/master/Figures/logoFIUBA.jpg\" width=\"500\" align=\"center\">\n",
    "\n",
    "\n",
    "# Procesamiento de lenguaje natural\n",
    "## Custom embedddings con Gensim\n",
    "\n"
   ]
  },
  {
   "cell_type": "markdown",
   "metadata": {
    "id": "vA7nqkumo9z9"
   },
   "source": [
    "### Objetivo\n",
    "El objetivo es utilizar documentos / corpus para crear embeddings de palabras basado en ese contexto. Se utilizará canciones de bandas para generar los embeddings, es decir, que los vectores tendrán la forma en función de como esa banda haya utilizado las palabras en sus canciones."
   ]
  },
  {
   "cell_type": "code",
   "execution_count": 70,
   "metadata": {
    "id": "lFToQs5FK5uZ"
   },
   "outputs": [],
   "source": [
    "import pandas as pd\n",
    "import matplotlib.pyplot as plt\n",
    "import seaborn as sns\n",
    "\n",
    "import multiprocessing\n",
    "from gensim.models import Word2Vec\n",
    "import string\n",
    "\n",
    "import ebooklib\n",
    "from ebooklib import epub\n",
    "\n"
   ]
  },
  {
   "cell_type": "markdown",
   "metadata": {
    "id": "g07zJxG7H9vG"
   },
   "source": [
    "### Datos\n",
    "Utilizaremos como dataset canciones de bandas de habla inglesa."
   ]
  },
  {
   "cell_type": "code",
   "execution_count": 71,
   "metadata": {
    "id": "ticoqYD1Z3I7"
   },
   "outputs": [
    {
     "name": "stderr",
     "output_type": "stream",
     "text": [
      "/tmp/ipykernel_44151/3648484044.py:2: ParserWarning:\n",
      "\n",
      "Falling back to the 'python' engine because the 'c' engine does not support regex separators (separators > 1 char and different from '\\s+' are interpreted as regex); you can avoid this warning by specifying engine='python'.\n",
      "\n"
     ]
    },
    {
     "data": {
      "text/html": [
       "<div>\n",
       "<style scoped>\n",
       "    .dataframe tbody tr th:only-of-type {\n",
       "        vertical-align: middle;\n",
       "    }\n",
       "\n",
       "    .dataframe tbody tr th {\n",
       "        vertical-align: top;\n",
       "    }\n",
       "\n",
       "    .dataframe thead th {\n",
       "        text-align: right;\n",
       "    }\n",
       "</style>\n",
       "<table border=\"1\" class=\"dataframe\">\n",
       "  <thead>\n",
       "    <tr style=\"text-align: right;\">\n",
       "      <th></th>\n",
       "      <th>0</th>\n",
       "    </tr>\n",
       "  </thead>\n",
       "  <tbody>\n",
       "    <tr>\n",
       "      <th>0</th>\n",
       "      <td>CONSTITUCION DE LA NACION ARGENTINA</td>\n",
       "    </tr>\n",
       "    <tr>\n",
       "      <th>1</th>\n",
       "      <td>PREÁMBULO</td>\n",
       "    </tr>\n",
       "    <tr>\n",
       "      <th>2</th>\n",
       "      <td>Nos los representantes del pueblo de la Nación...</td>\n",
       "    </tr>\n",
       "    <tr>\n",
       "      <th>3</th>\n",
       "      <td>PRIMERA PARTE</td>\n",
       "    </tr>\n",
       "    <tr>\n",
       "      <th>4</th>\n",
       "      <td>Capítulo Primero</td>\n",
       "    </tr>\n",
       "  </tbody>\n",
       "</table>\n",
       "</div>"
      ],
      "text/plain": [
       "                                                   0\n",
       "0                CONSTITUCION DE LA NACION ARGENTINA\n",
       "1                                          PREÁMBULO\n",
       "2  Nos los representantes del pueblo de la Nación...\n",
       "3                                      PRIMERA PARTE\n",
       "4                                   Capítulo Primero"
      ]
     },
     "execution_count": 71,
     "metadata": {},
     "output_type": "execute_result"
    }
   ],
   "source": [
    "# Armar el dataset\n",
    "df = pd.read_csv('ConstitucionNacional.txt', sep='/n', header=None)\n",
    "df.head()"
   ]
  },
  {
   "cell_type": "code",
   "execution_count": 72,
   "metadata": {
    "id": "LEpKubK9XzXN"
   },
   "outputs": [
    {
     "name": "stdout",
     "output_type": "stream",
     "text": [
      "Cantidad de documentos: 364\n"
     ]
    }
   ],
   "source": [
    "print(\"Cantidad de documentos:\", df.shape[0])"
   ]
  },
  {
   "cell_type": "markdown",
   "metadata": {
    "id": "ab94qaFlrA1G"
   },
   "source": [
    "### 1 - Preprocesamiento"
   ]
  },
  {
   "cell_type": "code",
   "execution_count": 73,
   "metadata": {},
   "outputs": [
    {
     "name": "stderr",
     "output_type": "stream",
     "text": [
      "Downloading https://raw.githubusercontent.com/stanfordnlp/stanza-resources/main/resources_1.2.2.json: 140kB [00:00, 7.37MB/s]                    \n",
      "2023-06-14 21:40:11 INFO: Downloading default packages for language: es (Spanish)...\n",
      "2023-06-14 21:40:12 INFO: File exists: /home/gonzalo/stanza_resources/es/default.zip.\n",
      "2023-06-14 21:40:15 INFO: Finished downloading models and saved to /home/gonzalo/stanza_resources.\n",
      "2023-06-14 21:40:15 INFO: Loading these models for language: es (Spanish):\n",
      "=======================\n",
      "| Processor | Package |\n",
      "-----------------------\n",
      "| tokenize  | ancora  |\n",
      "| mwt       | ancora  |\n",
      "| pos       | ancora  |\n",
      "| lemma     | ancora  |\n",
      "| depparse  | ancora  |\n",
      "| ner       | conll02 |\n",
      "=======================\n",
      "\n",
      "2023-06-14 21:40:15 INFO: Use device: cpu\n",
      "2023-06-14 21:40:15 INFO: Loading: tokenize\n",
      "2023-06-14 21:40:15 INFO: Loading: mwt\n",
      "2023-06-14 21:40:15 INFO: Loading: pos\n",
      "2023-06-14 21:40:15 INFO: Loading: lemma\n",
      "2023-06-14 21:40:15 INFO: Loading: depparse\n",
      "2023-06-14 21:40:16 INFO: Loading: ner\n",
      "2023-06-14 21:40:17 INFO: Done loading processors!\n"
     ]
    }
   ],
   "source": [
    "import stanza\n",
    "import spacy_stanza\n",
    "import warnings\n",
    "\n",
    "\n",
    "# Vamos a usar SpaCy-Stanza. Stanza es una librería de NLP de Stanford\n",
    "# SpaCy armó un wrapper para los pipelines y modelos de Stanza\n",
    "# https://stanfordnlp.github.io/stanza/\n",
    "\n",
    "# Descargar el diccionario en español y armar el pipeline de NLP con spacy\n",
    "stanza.download(\"es\")\n",
    "nlp = spacy_stanza.load_pipeline(\"es\")"
   ]
  },
  {
   "cell_type": "code",
   "execution_count": 74,
   "metadata": {},
   "outputs": [],
   "source": [
    "import re\n",
    "import unicodedata\n",
    "\n",
    "# El preprocesamento en castellano requiere más trabajo\n",
    "\n",
    "# Referencia de regex:\n",
    "# https://docs.python.org/3/library/re.html\n",
    "\n",
    "def preprocess_clean_text(text):    \n",
    "    # sacar tildes de las palabras:\n",
    "    text = unicodedata.normalize('NFKD', text).encode('ascii', 'ignore').decode('utf-8', 'ignore')\n",
    "    # quitar caracteres especiales\n",
    "    pattern = r'[^a-zA-z0-9.,!?/:;\\\"\\'\\s]' # [^ : ningún caracter de todos estos\n",
    "    # (termina eliminando cualquier caracter distinto de los del regex)\n",
    "    text = re.sub(pattern, '', text)\n",
    "    pattern = r'[^a-zA-z.,!?/:;\\\"\\'\\s]' # igual al anterior pero sin cifras numéricas\n",
    "    # quitar números\n",
    "    text = re.sub(pattern, '', text)\n",
    "    # quitar caracteres de puntuación\n",
    "    text = ''.join([c for c in text if c not in string.punctuation])\n",
    "    return text"
   ]
  },
  {
   "cell_type": "code",
   "execution_count": 75,
   "metadata": {
    "id": "rIsmMWmjrDHd"
   },
   "outputs": [],
   "source": [
    "#Silencio los UserWarning de Stanza\n",
    "warnings.filterwarnings(\"ignore\", category=UserWarning)\n",
    "\n",
    "sentence_tokens = []\n",
    "\n",
    "# Recorrer todas las filas y transformar las oraciones\n",
    "# en una secuencia de palabras \n",
    "for _, row in df[:None].iterrows():\n",
    "    tokens = nlp(preprocess_clean_text(row[0].lower()))\n",
    "    # lematizar los tokens\n",
    "    tokens_lemma = []\n",
    "    for token in tokens:            \n",
    "        tokens_lemma.append(token.lemma_)\n",
    "    sentence_tokens.append(tokens_lemma)\n",
    "warnings.resetwarnings()"
   ]
  },
  {
   "cell_type": "code",
   "execution_count": 76,
   "metadata": {
    "id": "CHepi_DGrbhq"
   },
   "outputs": [
    {
     "name": "stdout",
     "output_type": "stream",
     "text": [
      "Documento 1:\n",
      "CONSTITUCION DE LA NACION ARGENTINA\n",
      "-->['constitucion', 'de', 'el', 'nacion', 'argentino']\n",
      "\n",
      "Documento 2:\n",
      "PREÁMBULO\n",
      "-->['preambulo']\n",
      "\n",
      "Documento 3:\n",
      "Nos los representantes del pueblo de la Nación Argentina, reunidos en Congreso General Constituyente por voluntad y elección de las provincias que la componen, en cumplimiento de pactos preexistentes, con el objeto de constituir la unión nacional, afianzar la justicia, consolidar la paz interior, proveer a la defensa común, promover el bienestar general, y asegurar los beneficios de la libertad, para nosotros, para nuestra posteridad, y para todos los hombres del mundo que quieran habitar en el suelo argentino: invocando la protección de Dios, fuente de toda razón y justicia: ordenamos, decretamos y establecemos esta Constitución, para la Nación Argentina.\n",
      "-->['yo', 'el', 'representante', 'de', 'el', 'pueblo', 'de', 'el', 'nacion', 'argentino', 'reunido', 'en', 'congreso', 'general', 'constituyente', 'por', 'voluntad', 'y', 'eleccion', 'de', 'el', 'provincia', 'que', 'él', 'componer', 'en', 'cumplimiento', 'de', 'pacto', 'preexistente', 'con', 'el', 'objeto', 'de', 'constituir', 'el', 'union', 'nacional', 'afianzar', 'el', 'justicia', 'consolidar', 'el', 'paz', 'interior', 'proveer', 'a', 'el', 'defensa', 'comun', 'promover', 'el', 'bienestar', 'general', 'y', 'asegurar', 'el', 'beneficio', 'de', 'el', 'libertad', 'para', 'yo', 'para', 'nuestro', 'posteridad', 'y', 'para', 'todo', 'el', 'hombre', 'de', 'el', 'mundo', 'que', 'querer', 'habitar', 'en', 'el', 'suelo', 'argentino', 'invocar', 'el', 'proteccion', 'de', 'dio', 'fuente', 'de', 'todo', 'razon', 'y', 'justicia', 'ordenar', 'decretar', 'y', 'establecer', 'este', 'constitucion', 'para', 'el', 'nacion', 'argentino']\n",
      "\n",
      "Documento 4:\n",
      "PRIMERA PARTE\n",
      "-->['primero', 'parte']\n",
      "\n"
     ]
    }
   ],
   "source": [
    "# Demos un vistazo\n",
    "for i in range(4):\n",
    "    print(f'Documento {i+1}:')\n",
    "    print (df[0][i])\n",
    "    print(f'-->{sentence_tokens[i]}\\n')\n"
   ]
  },
  {
   "cell_type": "markdown",
   "metadata": {},
   "source": [
    "En los documentos evaluados arriba se pueden ver que la lematizacion hizo multiples modificaciones como ser:\n",
    "- Cambio de genero en la palabra \"la\" por \"el\" en el documento 1\n",
    "- Cambio de numero en la palabra \"nos\" por \"yo\" en el documento 3\n",
    "- Cambio de numero en la palabra \"representantes\" por \"representante\" en el documento 3\n",
    "- Cambio de genero en la palabra \"primera\" por \"primero\" en el documento 4"
   ]
  },
  {
   "cell_type": "code",
   "execution_count": 77,
   "metadata": {},
   "outputs": [
    {
     "name": "stdout",
     "output_type": "stream",
     "text": [
      "Cantidad de palabras únicas: 1731\n"
     ]
    }
   ],
   "source": [
    "#check unique words in the corpus\n",
    "unique_words = set()\n",
    "for sentence in sentence_tokens:\n",
    "    unique_words.update(sentence)\n",
    "\n",
    "print(\"Cantidad de palabras únicas:\", len(unique_words))\n"
   ]
  },
  {
   "cell_type": "markdown",
   "metadata": {
    "id": "BaXV6nlHr5Aa"
   },
   "source": [
    "### 2 - Crear los vectores (word2vec)"
   ]
  },
  {
   "cell_type": "code",
   "execution_count": 78,
   "metadata": {
    "id": "OSb0v7h8r7hK"
   },
   "outputs": [],
   "source": [
    "from gensim.models.callbacks import CallbackAny2Vec\n",
    "# Durante el entrenamiento gensim por defecto no informa el \"loss\" en cada época\n",
    "# Sobrecargamos el callback para poder tener esta información\n",
    "class callback(CallbackAny2Vec):\n",
    "    \"\"\"\n",
    "    Callback to print loss after each epoch\n",
    "    \"\"\"\n",
    "    def __init__(self):\n",
    "        self.epoch = 0\n",
    "\n",
    "    def on_epoch_end(self, model):\n",
    "        loss = model.get_latest_training_loss()\n",
    "        if self.epoch == 0:\n",
    "            print('Loss after epoch {}: {}'.format(self.epoch, loss))\n",
    "        else:\n",
    "            print('Loss after epoch {}: {}'.format(self.epoch, loss- self.loss_previous_step))\n",
    "        self.epoch += 1\n",
    "        self.loss_previous_step = loss"
   ]
  },
  {
   "cell_type": "code",
   "execution_count": 79,
   "metadata": {
    "id": "i0wnDdv9sJ47"
   },
   "outputs": [],
   "source": [
    "# Crearmos el modelo generador de vectores\n",
    "# En este caso utilizaremos la estructura modelo Skipgram\n",
    "w2v_model = Word2Vec(min_count=5,    # frecuencia mínima de palabra para incluirla en el vocabulario\n",
    "                     window=2,       # cant de palabras antes y desp de la predicha\n",
    "                     vector_size=300,       # dimensionalidad de los vectores \n",
    "                     negative=20,    # cantidad de negative samples... 0 es no se usa\n",
    "                     workers=1,      # si tienen más cores pueden cambiar este valor\n",
    "                     sg=1)           # modelo 0:CBOW  1:skipgram"
   ]
  },
  {
   "cell_type": "code",
   "execution_count": 80,
   "metadata": {
    "id": "5lTt8wErsf17"
   },
   "outputs": [],
   "source": [
    "# Obtener el vocabulario con los tokens\n",
    "w2v_model.build_vocab(sentence_tokens)"
   ]
  },
  {
   "cell_type": "code",
   "execution_count": 81,
   "metadata": {
    "id": "TNc9qt4os5AT"
   },
   "outputs": [
    {
     "name": "stdout",
     "output_type": "stream",
     "text": [
      "Cantidad de docs en el corpus: 364\n"
     ]
    }
   ],
   "source": [
    "# Cantidad de filas/docs encontradas en el corpus\n",
    "print(\"Cantidad de docs en el corpus:\", w2v_model.corpus_count)"
   ]
  },
  {
   "cell_type": "code",
   "execution_count": 82,
   "metadata": {
    "id": "idw9cHF3tSMl"
   },
   "outputs": [
    {
     "name": "stdout",
     "output_type": "stream",
     "text": [
      "Cantidad de words distintas en el corpus: 357\n"
     ]
    }
   ],
   "source": [
    "# Cantidad de words encontradas en el corpus\n",
    "print(\"Cantidad de words distintas en el corpus:\", len(w2v_model.wv.key_to_index))"
   ]
  },
  {
   "cell_type": "markdown",
   "metadata": {
    "id": "fC9mZ8DPk-UC"
   },
   "source": [
    "### 3 - Entrenar el modelo generador"
   ]
  },
  {
   "cell_type": "code",
   "execution_count": 85,
   "metadata": {
    "id": "QSp-x0PAsq56"
   },
   "outputs": [
    {
     "name": "stdout",
     "output_type": "stream",
     "text": [
      "Loss after epoch 0: 38791.89453125\n",
      "Loss after epoch 1: 39918.98828125\n",
      "Loss after epoch 2: 40247.8125\n",
      "Loss after epoch 3: 39012.5703125\n",
      "Loss after epoch 4: 39443.046875\n",
      "Loss after epoch 5: 39697.421875\n",
      "Loss after epoch 6: 39697.171875\n",
      "Loss after epoch 7: 40179.21875\n",
      "Loss after epoch 8: 39861.3125\n",
      "Loss after epoch 9: 39962.25\n",
      "Loss after epoch 10: 38639.3125\n",
      "Loss after epoch 11: 39235.34375\n",
      "Loss after epoch 12: 40227.0\n",
      "Loss after epoch 13: 39511.03125\n",
      "Loss after epoch 14: 39297.5\n",
      "Loss after epoch 15: 39610.4375\n",
      "Loss after epoch 16: 37648.0625\n",
      "Loss after epoch 17: 38810.4375\n",
      "Loss after epoch 18: 38698.0\n",
      "Loss after epoch 19: 37251.1875\n",
      "Loss after epoch 20: 39364.0\n",
      "Loss after epoch 21: 39053.0625\n",
      "Loss after epoch 22: 38433.6875\n",
      "Loss after epoch 23: 38904.8125\n",
      "Loss after epoch 24: 38991.125\n",
      "Loss after epoch 25: 37962.4375\n",
      "Loss after epoch 26: 38187.125\n",
      "Loss after epoch 27: 37549.875\n",
      "Loss after epoch 28: 36659.0\n",
      "Loss after epoch 29: 36631.625\n",
      "Loss after epoch 30: 36413.875\n",
      "Loss after epoch 31: 36915.25\n",
      "Loss after epoch 32: 36640.5\n",
      "Loss after epoch 33: 37732.25\n",
      "Loss after epoch 34: 37554.5\n",
      "Loss after epoch 35: 36931.625\n",
      "Loss after epoch 36: 36483.375\n",
      "Loss after epoch 37: 36772.0\n",
      "Loss after epoch 38: 37347.625\n",
      "Loss after epoch 39: 37815.875\n",
      "Loss after epoch 40: 35735.875\n",
      "Loss after epoch 41: 37429.875\n",
      "Loss after epoch 42: 36807.0\n",
      "Loss after epoch 43: 38016.5\n",
      "Loss after epoch 44: 37586.375\n",
      "Loss after epoch 45: 36528.875\n",
      "Loss after epoch 46: 36599.25\n",
      "Loss after epoch 47: 36308.375\n",
      "Loss after epoch 48: 36483.625\n",
      "Loss after epoch 49: 37327.25\n",
      "Loss after epoch 50: 36994.75\n",
      "Loss after epoch 51: 37259.0\n",
      "Loss after epoch 52: 36689.25\n",
      "Loss after epoch 53: 37704.125\n",
      "Loss after epoch 54: 37322.625\n",
      "Loss after epoch 55: 35552.875\n",
      "Loss after epoch 56: 34817.75\n",
      "Loss after epoch 57: 35461.5\n",
      "Loss after epoch 58: 34702.0\n",
      "Loss after epoch 59: 34806.5\n",
      "Loss after epoch 60: 34240.0\n",
      "Loss after epoch 61: 34857.0\n",
      "Loss after epoch 62: 34709.0\n",
      "Loss after epoch 63: 34674.25\n",
      "Loss after epoch 64: 35368.5\n",
      "Loss after epoch 65: 35052.0\n",
      "Loss after epoch 66: 34570.5\n",
      "Loss after epoch 67: 34489.75\n",
      "Loss after epoch 68: 34610.5\n",
      "Loss after epoch 69: 34840.0\n",
      "Loss after epoch 70: 34800.75\n",
      "Loss after epoch 71: 34284.25\n",
      "Loss after epoch 72: 34278.0\n",
      "Loss after epoch 73: 34647.5\n",
      "Loss after epoch 74: 34976.5\n",
      "Loss after epoch 75: 35398.5\n",
      "Loss after epoch 76: 35150.75\n",
      "Loss after epoch 77: 34400.5\n",
      "Loss after epoch 78: 34455.5\n",
      "Loss after epoch 79: 34937.0\n",
      "Loss after epoch 80: 33796.25\n",
      "Loss after epoch 81: 34658.75\n",
      "Loss after epoch 82: 34557.0\n",
      "Loss after epoch 83: 35210.5\n",
      "Loss after epoch 84: 35006.75\n",
      "Loss after epoch 85: 34658.25\n",
      "Loss after epoch 86: 34220.0\n",
      "Loss after epoch 87: 35332.25\n",
      "Loss after epoch 88: 34735.0\n",
      "Loss after epoch 89: 33783.0\n",
      "Loss after epoch 90: 34096.5\n",
      "Loss after epoch 91: 34692.25\n",
      "Loss after epoch 92: 34763.0\n",
      "Loss after epoch 93: 34465.5\n",
      "Loss after epoch 94: 34391.0\n",
      "Loss after epoch 95: 33847.5\n",
      "Loss after epoch 96: 34006.25\n",
      "Loss after epoch 97: 34805.5\n",
      "Loss after epoch 98: 34063.25\n",
      "Loss after epoch 99: 34846.75\n",
      "Loss after epoch 100: 35179.75\n",
      "Loss after epoch 101: 35361.5\n",
      "Loss after epoch 102: 33996.0\n",
      "Loss after epoch 103: 34630.25\n",
      "Loss after epoch 104: 34187.0\n",
      "Loss after epoch 105: 34982.5\n",
      "Loss after epoch 106: 34032.0\n",
      "Loss after epoch 107: 34326.0\n",
      "Loss after epoch 108: 34309.75\n",
      "Loss after epoch 109: 34459.25\n",
      "Loss after epoch 110: 34275.25\n",
      "Loss after epoch 111: 34327.75\n",
      "Loss after epoch 112: 34085.25\n",
      "Loss after epoch 113: 34477.0\n",
      "Loss after epoch 114: 34080.25\n",
      "Loss after epoch 115: 34260.5\n",
      "Loss after epoch 116: 32137.5\n",
      "Loss after epoch 117: 32137.5\n",
      "Loss after epoch 118: 32112.0\n",
      "Loss after epoch 119: 31564.5\n",
      "Loss after epoch 120: 32593.5\n",
      "Loss after epoch 121: 32039.0\n",
      "Loss after epoch 122: 31825.5\n",
      "Loss after epoch 123: 31570.5\n",
      "Loss after epoch 124: 31893.0\n",
      "Loss after epoch 125: 31772.0\n",
      "Loss after epoch 126: 31987.5\n",
      "Loss after epoch 127: 31715.5\n",
      "Loss after epoch 128: 32314.5\n",
      "Loss after epoch 129: 31391.0\n",
      "Loss after epoch 130: 31158.5\n",
      "Loss after epoch 131: 31973.0\n",
      "Loss after epoch 132: 31561.0\n",
      "Loss after epoch 133: 32363.5\n",
      "Loss after epoch 134: 31785.0\n",
      "Loss after epoch 135: 31734.0\n",
      "Loss after epoch 136: 31426.5\n",
      "Loss after epoch 137: 31757.5\n",
      "Loss after epoch 138: 32129.0\n",
      "Loss after epoch 139: 31316.0\n",
      "Loss after epoch 140: 31259.5\n",
      "Loss after epoch 141: 31886.5\n",
      "Loss after epoch 142: 32263.0\n",
      "Loss after epoch 143: 31552.5\n",
      "Loss after epoch 144: 31210.0\n",
      "Loss after epoch 145: 31467.0\n",
      "Loss after epoch 146: 31880.5\n",
      "Loss after epoch 147: 31164.5\n",
      "Loss after epoch 148: 31897.5\n",
      "Loss after epoch 149: 31134.0\n",
      "Loss after epoch 150: 31192.5\n",
      "Loss after epoch 151: 31939.0\n",
      "Loss after epoch 152: 30902.0\n",
      "Loss after epoch 153: 31414.0\n",
      "Loss after epoch 154: 32133.5\n",
      "Loss after epoch 155: 31533.0\n",
      "Loss after epoch 156: 31726.5\n",
      "Loss after epoch 157: 31461.5\n",
      "Loss after epoch 158: 31857.5\n",
      "Loss after epoch 159: 30618.5\n",
      "Loss after epoch 160: 31548.0\n",
      "Loss after epoch 161: 31546.5\n",
      "Loss after epoch 162: 31040.5\n",
      "Loss after epoch 163: 31373.5\n",
      "Loss after epoch 164: 31735.5\n",
      "Loss after epoch 165: 31754.5\n",
      "Loss after epoch 166: 31504.0\n",
      "Loss after epoch 167: 31065.0\n",
      "Loss after epoch 168: 31627.5\n",
      "Loss after epoch 169: 31652.5\n",
      "Loss after epoch 170: 31780.5\n",
      "Loss after epoch 171: 30736.0\n",
      "Loss after epoch 172: 30942.0\n",
      "Loss after epoch 173: 31380.5\n",
      "Loss after epoch 174: 30981.5\n",
      "Loss after epoch 175: 31740.0\n",
      "Loss after epoch 176: 31788.0\n",
      "Loss after epoch 177: 30292.5\n",
      "Loss after epoch 178: 31167.0\n",
      "Loss after epoch 179: 31434.0\n",
      "Loss after epoch 180: 31050.5\n",
      "Loss after epoch 181: 31115.0\n",
      "Loss after epoch 182: 30593.5\n",
      "Loss after epoch 183: 31112.0\n",
      "Loss after epoch 184: 31143.0\n",
      "Loss after epoch 185: 31563.5\n",
      "Loss after epoch 186: 30555.5\n",
      "Loss after epoch 187: 31274.5\n",
      "Loss after epoch 188: 30896.5\n",
      "Loss after epoch 189: 30755.5\n",
      "Loss after epoch 190: 31248.5\n",
      "Loss after epoch 191: 31489.5\n",
      "Loss after epoch 192: 32017.0\n",
      "Loss after epoch 193: 31053.0\n",
      "Loss after epoch 194: 30319.5\n",
      "Loss after epoch 195: 31548.0\n",
      "Loss after epoch 196: 31088.5\n",
      "Loss after epoch 197: 30967.5\n",
      "Loss after epoch 198: 31029.0\n",
      "Loss after epoch 199: 31031.0\n"
     ]
    },
    {
     "data": {
      "text/plain": [
       "(1032631, 2580600)"
      ]
     },
     "execution_count": 85,
     "metadata": {},
     "output_type": "execute_result"
    }
   ],
   "source": [
    "# Entrenamos el modelo generador de vectores\n",
    "# Utilizamos nuestro callback\n",
    "w2v_model.train(sentence_tokens,\n",
    "                 total_examples=w2v_model.corpus_count,\n",
    "                 epochs=200,\n",
    "                 compute_loss = True,\n",
    "                 callbacks=[callback()]\n",
    "                 )"
   ]
  },
  {
   "cell_type": "markdown",
   "metadata": {
    "id": "ddT9NVuNlCAe"
   },
   "source": [
    "### 4 - Ensayar"
   ]
  },
  {
   "cell_type": "code",
   "execution_count": 106,
   "metadata": {
    "id": "XPLDPgzBmQXt"
   },
   "outputs": [
    {
     "data": {
      "text/plain": [
       "[('supremo', 0.5759741067886353),\n",
       " ('juramento', 0.5323599576950073),\n",
       " ('tribunal', 0.41436323523521423),\n",
       " ('inferior', 0.41192734241485596),\n",
       " ('prestar', 0.3981272876262665)]"
      ]
     },
     "execution_count": 106,
     "metadata": {},
     "output_type": "execute_result"
    }
   ],
   "source": [
    "# Palabras que MÁS se relacionan con \"corte\":\n",
    "w2v_model.wv.most_similar(positive=[\"corte\"], topn=5)"
   ]
  },
  {
   "cell_type": "code",
   "execution_count": 87,
   "metadata": {
    "id": "L_UvHPMMklOr"
   },
   "outputs": [
    {
     "data": {
      "text/plain": [
       "[('quedar', 0.011580086313188076),\n",
       " ('nacional', 0.0067589497193694115),\n",
       " ('discriminacion', -0.005624289624392986),\n",
       " ('competencia', -0.012568368576467037),\n",
       " ('distrito', -0.019746527075767517),\n",
       " ('publico', -0.027713028714060783),\n",
       " ('referido', -0.028855131939053535),\n",
       " ('estado', -0.03367186710238457),\n",
       " ('cualquiera', -0.036632079631090164),\n",
       " ('pasar', -0.03670481592416763)]"
      ]
     },
     "execution_count": 87,
     "metadata": {},
     "output_type": "execute_result"
    }
   ],
   "source": [
    "# Palabras menos relacionada con \"corte\":\n",
    "w2v_model.wv.most_similar(negative=[\"corte\"])"
   ]
  },
  {
   "cell_type": "code",
   "execution_count": 94,
   "metadata": {},
   "outputs": [
    {
     "data": {
      "text/plain": [
       "[('mayoria', 0.44905751943588257),\n",
       " ('tercio', 0.42317795753479004),\n",
       " ('totalidad', 0.4144941568374634),\n",
       " ('sancionado', 0.4045528173446655),\n",
       " ('total', 0.3951209485530853)]"
      ]
     },
     "execution_count": 94,
     "metadata": {},
     "output_type": "execute_result"
    }
   ],
   "source": [
    "# Palabras que MÁS se relacionan con \"voto\":\n",
    "w2v_model.wv.most_similar(positive=[\"voto\"], topn=5)"
   ]
  },
  {
   "cell_type": "code",
   "execution_count": 95,
   "metadata": {},
   "outputs": [
    {
     "data": {
      "text/plain": [
       "[('asegurar', 0.10534435510635376),\n",
       " ('constitucion', 0.06969275325536728),\n",
       " ('bien', 0.04718245938420296),\n",
       " ('decretar', 0.025744568556547165),\n",
       " ('proveer', 0.019139651209115982),\n",
       " ('exigir', -0.0014081337722018361),\n",
       " ('legislacion', -0.007092334795743227),\n",
       " ('medida', -0.007743945345282555),\n",
       " ('educacion', -0.009025159291923046),\n",
       " ('provincial', -0.0143263079226017)]"
      ]
     },
     "execution_count": 95,
     "metadata": {},
     "output_type": "execute_result"
    }
   ],
   "source": [
    "# Palabras menos relacionada con \"voto\":\n",
    "w2v_model.wv.most_similar(negative=[\"voto\"])"
   ]
  },
  {
   "cell_type": "markdown",
   "metadata": {},
   "source": [
    "Se puede ver que el embedding asocia la palabra corte con terminos relacionados al poder judicial y la palabra voto con el proceso de sancion de una ley."
   ]
  },
  {
   "cell_type": "markdown",
   "metadata": {
    "id": "_g8UVWe6lFmh"
   },
   "source": [
    "### 5 - Visualizar agrupación de vectores"
   ]
  },
  {
   "cell_type": "code",
   "execution_count": 88,
   "metadata": {
    "id": "pDxEVXAivjr9"
   },
   "outputs": [],
   "source": [
    "from sklearn.decomposition import IncrementalPCA    \n",
    "from sklearn.manifold import TSNE                   \n",
    "import numpy as np                                  \n",
    "\n",
    "def reduce_dimensions(model):\n",
    "    num_dimensions = 2  \n",
    "\n",
    "    vectors = np.asarray(model.wv.vectors)\n",
    "    labels = np.asarray(model.wv.index_to_key)  \n",
    "\n",
    "    tsne = TSNE(n_components=num_dimensions, random_state=0)\n",
    "    vectors = tsne.fit_transform(vectors)\n",
    "\n",
    "    x_vals = [v[0] for v in vectors]\n",
    "    y_vals = [v[1] for v in vectors]\n",
    "    return x_vals, y_vals, labels"
   ]
  },
  {
   "cell_type": "code",
   "execution_count": 89,
   "metadata": {
    "id": "NCCXtDpcugmd"
   },
   "outputs": [
    {
     "data": {
      "application/vnd.plotly.v1+json": {
       "config": {
        "plotlyServerURL": "https://plot.ly"
       },
       "data": [
        {
         "hovertemplate": "x=%{x}<br>y=%{y}<br>text=%{text}<extra></extra>",
         "legendgroup": "",
         "marker": {
          "color": "#636efa",
          "symbol": "circle"
         },
         "mode": "markers+text",
         "name": "",
         "orientation": "v",
         "showlegend": false,
         "text": [
          "el",
          "de",
          "y",
          "a",
          "en",
          "que",
          "él",
          "por",
          "su",
          "ser",
          "articulo",
          "o",
          "poder",
          "uno",
          "nacion",
          "ley",
          "este",
          " ",
          "con",
          "para",
          "no",
          "provincia",
          "congreso",
          "camara",
          "todo",
          "derecho",
          "presidente",
          "miembro",
          "cada",
          "caso",
          "constitucion",
          "nacional",
          "tener",
          "ni",
          "dos",
          "gobierno",
          "federal",
          "deber",
          "corresponder",
          "otro",
          "ministro",
          "territorio",
          "haber",
          "ano",
          "sobre",
          "ejecutivo",
          "sin",
          "publico",
          "argentino",
          "senador",
          "establecer",
          "parte",
          "mayoria",
          "voto",
          "hacer",
          "general",
          "ejercer",
          "proyecto",
          "politico",
          "estado",
          "senado",
          "ejercicio",
          "buen",
          "ninguno",
          "diputado",
          "ciudad",
          "si",
          "dictar",
          "absoluto",
          "aire",
          "acto",
          "como",
          "primero",
          "autoridad",
          "pero",
          "presente",
          "jefe",
          "tratado",
          "dia",
          "cargo",
          "sesión",
          "contra",
          "solo",
          "e",
          "forma",
          "tercero",
          "capitulo",
          "servicio",
          "empleo",
          "electoral",
          "aprobar",
          "justicia",
          "especial",
          "gabinete",
          "eleccion",
          "extranjero",
          "hasta",
          "declarar",
          "vicepresidente",
          "entre",
          "función",
          "supremo",
          "mismo",
          "cualquiera",
          "efecto",
          "segundo",
          "partido",
          "corte",
          "juez",
          "mas",
          "nuevo",
          "pueblo",
          "causa",
          "administracion",
          "publicar",
          "sancion",
          "cuando",
          "facultad",
          "mil",
          "numero",
          "regimen",
          "tribunal",
          "ordinario",
          "aprobacion",
          "competencia",
          "fin",
          "legislativo",
          "conforme",
          "totalidad",
          "persona",
          "acuerdo",
          "dentro",
          "legislatura",
          "economico",
          "necesario",
          "convencion",
          "republica",
          "elegir",
          "garantia",
          "quedar",
          "juicio",
          "aquel",
          "interior",
          "gozar",
          "dar",
          "determinar",
          "provincial",
          "ciudadano",
          "sancionar",
          "tiempo",
          "pena",
          "recurso",
          "libre",
          "tres",
          "reforma",
          "ante",
          "magistrado",
          "alguno",
          "organizacion",
          "reglamento",
          "inferior",
          "dema",
          "proteccion",
          "capital",
          "atribución",
          "ambos",
          "procedimiento",
          "hecho",
          "habitante",
          "principio",
          "termino",
          "vez",
          "mandato",
          "garantizar",
          "exterior",
          "judicial",
          "internacional",
          "decreto",
          "respectivo",
          "origen",
          "fuerza",
          "defensa",
          "previsto",
          "promover",
          "inc",
          "natural",
          "cinco",
          "vigencia",
          "asegurar",
          "tanto",
          "luego",
          "rio",
          "igual",
          "seguridad",
          "social",
          "control",
          "contribución",
          "mayor",
          "estar",
          "iniciativa"
         ],
         "type": "scatter",
         "x": [
          1.1395106,
          1.1101478,
          1.4255757,
          1.1321839,
          1.0259852,
          1.2590652,
          0.9870573,
          0.9444364,
          1.1656232,
          1.0410178,
          0.9665519,
          1.3365958,
          0.80031353,
          0.9252575,
          1.2359774,
          1.1006641,
          1.1584357,
          1.078077,
          1.2467213,
          1.2645272,
          1.0160354,
          1.4883627,
          0.7875939,
          -0.18569669,
          1.4222914,
          1.8744538,
          0.6188856,
          -0.13364537,
          0.32891512,
          0.6756227,
          1.3332787,
          1.6531388,
          0.9657945,
          1.4359176,
          -0.19579865,
          1.5718777,
          1.6265453,
          0.4200385,
          0.64046514,
          1.3837712,
          0.7081691,
          1.930145,
          0.9291083,
          -0.026359204,
          1.3815352,
          0.0102302935,
          0.7797993,
          1.8173871,
          1.0746362,
          1.025533,
          1.1957898,
          0.9912893,
          -0.8048812,
          -0.55622584,
          0.8027183,
          1.1406848,
          1.5537308,
          -0.34125412,
          0.32511216,
          2.314881,
          0.5387236,
          1.5349362,
          2.348825,
          0.4683656,
          0.19256197,
          2.1016924,
          0.2934332,
          1.4916347,
          -0.9233534,
          2.3307586,
          1.6505982,
          0.8738324,
          1.3882912,
          2.1472447,
          0.5882241,
          -0.7945989,
          0.82753474,
          2.59573,
          -1.5992979,
          1.2214627,
          -0.68321353,
          1.9038763,
          0.62091726,
          2.8234584,
          2.113741,
          1.0516771,
          1.2950526,
          1.1031423,
          1.452965,
          -0.12507431,
          -0.25252238,
          2.7040052,
          -0.14845134,
          0.66990185,
          0.5808836,
          2.0383666,
          0.21371937,
          0.6009132,
          0.667389,
          2.215502,
          1.2873292,
          1.0123432,
          0.8787135,
          -0.6838363,
          0.34987187,
          1.3514078,
          -0.061612196,
          1.0162876,
          1.2946194,
          0.79032737,
          0.15209427,
          0.32067215,
          0.62524843,
          1.3716925,
          0.8359911,
          -0.2827023,
          0.7678873,
          1.2044772,
          -0.46871808,
          0.033692125,
          2.7757595,
          1.5676092,
          -0.85547125,
          -1.0756496,
          2.1934118,
          2.0947628,
          0.22689357,
          1.809374,
          -1.0251282,
          3.2295673,
          1.1813703,
          0.23806882,
          0.9137292,
          3.5846338,
          1.9438035,
          -0.96682614,
          1.2309188,
          0.9176835,
          2.7260444,
          1.6905566,
          -0.7182095,
          0.69117314,
          3.3165545,
          1.4202994,
          -1.6246976,
          1.5021877,
          3.9902854,
          1.7205057,
          -0.76811504,
          1.558813,
          3.31663,
          3.2161808,
          2.7191248,
          -0.008813218,
          -0.17939016,
          0.75257796,
          1.8704394,
          1.3575768,
          2.028699,
          3.150429,
          1.5402361,
          1.6080217,
          3.5472834,
          1.2726039,
          1.4125373,
          -0.7344114,
          -0.059836954,
          2.3853984,
          -0.79633313,
          3.0393395,
          -1.3069324,
          -1.5821308,
          -0.2441051,
          2.8233938,
          2.6583385,
          2.25678,
          2.8935905,
          0.6261277,
          -2.0558674,
          -1.1526835,
          4.5559654,
          3.563052,
          1.5980921,
          4.3079057,
          -0.2693989,
          2.3047285,
          -0.30967534,
          -2.0186284,
          2.4926527,
          1.5276998,
          -1.6528121,
          3.7177348,
          0.2603438,
          3.5000298,
          3.63358,
          2.684392,
          2.7182536,
          -0.36340177,
          2.444483,
          -0.1803703
         ],
         "xaxis": "x",
         "y": [
          -0.5895131,
          -0.6249659,
          -0.49063003,
          -0.485126,
          -0.6318634,
          -0.56782556,
          -0.56963027,
          -0.75521094,
          -0.5338451,
          -0.648197,
          -0.62712795,
          -0.74152136,
          -0.63161916,
          -0.72522753,
          -0.039833322,
          -0.595191,
          -0.66691494,
          -0.3438842,
          -0.51946044,
          -0.47265548,
          -0.73146224,
          -0.4985521,
          -0.24203402,
          -0.95724016,
          -0.6502955,
          -1.0255091,
          0.5869916,
          -1.228099,
          -1.0381533,
          -0.69565505,
          -0.7304109,
          -0.61207575,
          -0.8809607,
          -0.4853374,
          -2.26624,
          -0.58460647,
          -0.3541311,
          -0.8689557,
          -1.1539103,
          -0.8846421,
          1.2140573,
          -0.7228229,
          -1.100005,
          -3.6797674,
          -0.69061965,
          -0.6136938,
          -0.5399669,
          -0.24833721,
          -1.0734581,
          -1.8727005,
          -0.566015,
          -2.688285,
          -1.8459853,
          -1.6549376,
          -0.52315867,
          0.35402235,
          0.14053003,
          -1.0732052,
          -2.3859398,
          -1.4795151,
          -0.8864841,
          -1.171869,
          1.6244674,
          -0.06806317,
          -0.4654754,
          1.4031807,
          -0.9303843,
          -0.113414824,
          -1.9530772,
          1.6443737,
          -0.7394696,
          -0.5061053,
          -3.916834,
          -0.60967743,
          -1.1185814,
          -1.7492507,
          1.4876947,
          -0.9873609,
          -3.0991638,
          -1.4148483,
          1.3961122,
          -1.4796902,
          -0.9161491,
          -1.0323695,
          -1.1711955,
          -3.489299,
          -3.5765193,
          -1.3180722,
          0.81083125,
          -3.204187,
          -1.280013,
          2.223068,
          -0.7638299,
          1.4722655,
          -1.6525145,
          0.80197906,
          -1.9198706,
          -0.03803793,
          0.7780237,
          -0.8971907,
          -1.0625646,
          2.4594464,
          -1.1599125,
          -0.01008465,
          -0.34588248,
          -3.8026106,
          -2.9377284,
          2.5332897,
          0.10014059,
          -2.1219552,
          0.21797921,
          2.0966067,
          -0.09517344,
          0.8258397,
          -1.4243973,
          -0.9390619,
          0.104713626,
          0.14883824,
          -4.0379066,
          -2.4595022,
          1.5569177,
          2.854388,
          0.81944394,
          -1.3523482,
          -0.15034899,
          0.6619833,
          1.9930232,
          -2.3338745,
          -1.9466676,
          -1.5378551,
          1.6481198,
          0.49534616,
          -2.82582,
          0.94043255,
          0.39509553,
          2.095969,
          -0.10517065,
          -1.5115803,
          -2.4814808,
          -1.5157219,
          0.21763037,
          -0.28207633,
          -0.58136976,
          -1.8882704,
          -0.10799116,
          -0.24582432,
          -1.0163538,
          -1.9556671,
          -0.7197678,
          -1.2715218,
          -1.7702706,
          1.8992279,
          -2.185886,
          -3.652777,
          0.3178432,
          2.1057,
          2.304928,
          -1.3147317,
          -0.96114856,
          -0.64402026,
          2.8168206,
          1.3027563,
          0.31535858,
          0.69169164,
          1.4417738,
          -0.379263,
          -0.00775165,
          -2.37729,
          0.8122501,
          -0.34882402,
          -2.6236079,
          -0.7528052,
          -4.3453403,
          -2.479544,
          -0.9772377,
          -0.49065703,
          -1.2030061,
          1.0165346,
          -2.008741,
          -1.5451307,
          -2.4885206,
          0.31295004,
          -3.6269841,
          0.6954181,
          -0.008767508,
          -0.07252829,
          -3.868819,
          0.4065532,
          0.5908039,
          -1.164273,
          -1.056543,
          -0.48083395,
          -1.5820173,
          0.59048647,
          0.93486226,
          0.15705276,
          -0.24779846,
          -3.0552304,
          -0.2333721,
          -0.4152172
         ],
         "yaxis": "y"
        }
       ],
       "layout": {
        "legend": {
         "tracegroupgap": 0
        },
        "margin": {
         "t": 60
        },
        "template": {
         "data": {
          "bar": [
           {
            "error_x": {
             "color": "#2a3f5f"
            },
            "error_y": {
             "color": "#2a3f5f"
            },
            "marker": {
             "line": {
              "color": "#E5ECF6",
              "width": 0.5
             },
             "pattern": {
              "fillmode": "overlay",
              "size": 10,
              "solidity": 0.2
             }
            },
            "type": "bar"
           }
          ],
          "barpolar": [
           {
            "marker": {
             "line": {
              "color": "#E5ECF6",
              "width": 0.5
             },
             "pattern": {
              "fillmode": "overlay",
              "size": 10,
              "solidity": 0.2
             }
            },
            "type": "barpolar"
           }
          ],
          "carpet": [
           {
            "aaxis": {
             "endlinecolor": "#2a3f5f",
             "gridcolor": "white",
             "linecolor": "white",
             "minorgridcolor": "white",
             "startlinecolor": "#2a3f5f"
            },
            "baxis": {
             "endlinecolor": "#2a3f5f",
             "gridcolor": "white",
             "linecolor": "white",
             "minorgridcolor": "white",
             "startlinecolor": "#2a3f5f"
            },
            "type": "carpet"
           }
          ],
          "choropleth": [
           {
            "colorbar": {
             "outlinewidth": 0,
             "ticks": ""
            },
            "type": "choropleth"
           }
          ],
          "contour": [
           {
            "colorbar": {
             "outlinewidth": 0,
             "ticks": ""
            },
            "colorscale": [
             [
              0,
              "#0d0887"
             ],
             [
              0.1111111111111111,
              "#46039f"
             ],
             [
              0.2222222222222222,
              "#7201a8"
             ],
             [
              0.3333333333333333,
              "#9c179e"
             ],
             [
              0.4444444444444444,
              "#bd3786"
             ],
             [
              0.5555555555555556,
              "#d8576b"
             ],
             [
              0.6666666666666666,
              "#ed7953"
             ],
             [
              0.7777777777777778,
              "#fb9f3a"
             ],
             [
              0.8888888888888888,
              "#fdca26"
             ],
             [
              1,
              "#f0f921"
             ]
            ],
            "type": "contour"
           }
          ],
          "contourcarpet": [
           {
            "colorbar": {
             "outlinewidth": 0,
             "ticks": ""
            },
            "type": "contourcarpet"
           }
          ],
          "heatmap": [
           {
            "colorbar": {
             "outlinewidth": 0,
             "ticks": ""
            },
            "colorscale": [
             [
              0,
              "#0d0887"
             ],
             [
              0.1111111111111111,
              "#46039f"
             ],
             [
              0.2222222222222222,
              "#7201a8"
             ],
             [
              0.3333333333333333,
              "#9c179e"
             ],
             [
              0.4444444444444444,
              "#bd3786"
             ],
             [
              0.5555555555555556,
              "#d8576b"
             ],
             [
              0.6666666666666666,
              "#ed7953"
             ],
             [
              0.7777777777777778,
              "#fb9f3a"
             ],
             [
              0.8888888888888888,
              "#fdca26"
             ],
             [
              1,
              "#f0f921"
             ]
            ],
            "type": "heatmap"
           }
          ],
          "heatmapgl": [
           {
            "colorbar": {
             "outlinewidth": 0,
             "ticks": ""
            },
            "colorscale": [
             [
              0,
              "#0d0887"
             ],
             [
              0.1111111111111111,
              "#46039f"
             ],
             [
              0.2222222222222222,
              "#7201a8"
             ],
             [
              0.3333333333333333,
              "#9c179e"
             ],
             [
              0.4444444444444444,
              "#bd3786"
             ],
             [
              0.5555555555555556,
              "#d8576b"
             ],
             [
              0.6666666666666666,
              "#ed7953"
             ],
             [
              0.7777777777777778,
              "#fb9f3a"
             ],
             [
              0.8888888888888888,
              "#fdca26"
             ],
             [
              1,
              "#f0f921"
             ]
            ],
            "type": "heatmapgl"
           }
          ],
          "histogram": [
           {
            "marker": {
             "pattern": {
              "fillmode": "overlay",
              "size": 10,
              "solidity": 0.2
             }
            },
            "type": "histogram"
           }
          ],
          "histogram2d": [
           {
            "colorbar": {
             "outlinewidth": 0,
             "ticks": ""
            },
            "colorscale": [
             [
              0,
              "#0d0887"
             ],
             [
              0.1111111111111111,
              "#46039f"
             ],
             [
              0.2222222222222222,
              "#7201a8"
             ],
             [
              0.3333333333333333,
              "#9c179e"
             ],
             [
              0.4444444444444444,
              "#bd3786"
             ],
             [
              0.5555555555555556,
              "#d8576b"
             ],
             [
              0.6666666666666666,
              "#ed7953"
             ],
             [
              0.7777777777777778,
              "#fb9f3a"
             ],
             [
              0.8888888888888888,
              "#fdca26"
             ],
             [
              1,
              "#f0f921"
             ]
            ],
            "type": "histogram2d"
           }
          ],
          "histogram2dcontour": [
           {
            "colorbar": {
             "outlinewidth": 0,
             "ticks": ""
            },
            "colorscale": [
             [
              0,
              "#0d0887"
             ],
             [
              0.1111111111111111,
              "#46039f"
             ],
             [
              0.2222222222222222,
              "#7201a8"
             ],
             [
              0.3333333333333333,
              "#9c179e"
             ],
             [
              0.4444444444444444,
              "#bd3786"
             ],
             [
              0.5555555555555556,
              "#d8576b"
             ],
             [
              0.6666666666666666,
              "#ed7953"
             ],
             [
              0.7777777777777778,
              "#fb9f3a"
             ],
             [
              0.8888888888888888,
              "#fdca26"
             ],
             [
              1,
              "#f0f921"
             ]
            ],
            "type": "histogram2dcontour"
           }
          ],
          "mesh3d": [
           {
            "colorbar": {
             "outlinewidth": 0,
             "ticks": ""
            },
            "type": "mesh3d"
           }
          ],
          "parcoords": [
           {
            "line": {
             "colorbar": {
              "outlinewidth": 0,
              "ticks": ""
             }
            },
            "type": "parcoords"
           }
          ],
          "pie": [
           {
            "automargin": true,
            "type": "pie"
           }
          ],
          "scatter": [
           {
            "fillpattern": {
             "fillmode": "overlay",
             "size": 10,
             "solidity": 0.2
            },
            "type": "scatter"
           }
          ],
          "scatter3d": [
           {
            "line": {
             "colorbar": {
              "outlinewidth": 0,
              "ticks": ""
             }
            },
            "marker": {
             "colorbar": {
              "outlinewidth": 0,
              "ticks": ""
             }
            },
            "type": "scatter3d"
           }
          ],
          "scattercarpet": [
           {
            "marker": {
             "colorbar": {
              "outlinewidth": 0,
              "ticks": ""
             }
            },
            "type": "scattercarpet"
           }
          ],
          "scattergeo": [
           {
            "marker": {
             "colorbar": {
              "outlinewidth": 0,
              "ticks": ""
             }
            },
            "type": "scattergeo"
           }
          ],
          "scattergl": [
           {
            "marker": {
             "colorbar": {
              "outlinewidth": 0,
              "ticks": ""
             }
            },
            "type": "scattergl"
           }
          ],
          "scattermapbox": [
           {
            "marker": {
             "colorbar": {
              "outlinewidth": 0,
              "ticks": ""
             }
            },
            "type": "scattermapbox"
           }
          ],
          "scatterpolar": [
           {
            "marker": {
             "colorbar": {
              "outlinewidth": 0,
              "ticks": ""
             }
            },
            "type": "scatterpolar"
           }
          ],
          "scatterpolargl": [
           {
            "marker": {
             "colorbar": {
              "outlinewidth": 0,
              "ticks": ""
             }
            },
            "type": "scatterpolargl"
           }
          ],
          "scatterternary": [
           {
            "marker": {
             "colorbar": {
              "outlinewidth": 0,
              "ticks": ""
             }
            },
            "type": "scatterternary"
           }
          ],
          "surface": [
           {
            "colorbar": {
             "outlinewidth": 0,
             "ticks": ""
            },
            "colorscale": [
             [
              0,
              "#0d0887"
             ],
             [
              0.1111111111111111,
              "#46039f"
             ],
             [
              0.2222222222222222,
              "#7201a8"
             ],
             [
              0.3333333333333333,
              "#9c179e"
             ],
             [
              0.4444444444444444,
              "#bd3786"
             ],
             [
              0.5555555555555556,
              "#d8576b"
             ],
             [
              0.6666666666666666,
              "#ed7953"
             ],
             [
              0.7777777777777778,
              "#fb9f3a"
             ],
             [
              0.8888888888888888,
              "#fdca26"
             ],
             [
              1,
              "#f0f921"
             ]
            ],
            "type": "surface"
           }
          ],
          "table": [
           {
            "cells": {
             "fill": {
              "color": "#EBF0F8"
             },
             "line": {
              "color": "white"
             }
            },
            "header": {
             "fill": {
              "color": "#C8D4E3"
             },
             "line": {
              "color": "white"
             }
            },
            "type": "table"
           }
          ]
         },
         "layout": {
          "annotationdefaults": {
           "arrowcolor": "#2a3f5f",
           "arrowhead": 0,
           "arrowwidth": 1
          },
          "autotypenumbers": "strict",
          "coloraxis": {
           "colorbar": {
            "outlinewidth": 0,
            "ticks": ""
           }
          },
          "colorscale": {
           "diverging": [
            [
             0,
             "#8e0152"
            ],
            [
             0.1,
             "#c51b7d"
            ],
            [
             0.2,
             "#de77ae"
            ],
            [
             0.3,
             "#f1b6da"
            ],
            [
             0.4,
             "#fde0ef"
            ],
            [
             0.5,
             "#f7f7f7"
            ],
            [
             0.6,
             "#e6f5d0"
            ],
            [
             0.7,
             "#b8e186"
            ],
            [
             0.8,
             "#7fbc41"
            ],
            [
             0.9,
             "#4d9221"
            ],
            [
             1,
             "#276419"
            ]
           ],
           "sequential": [
            [
             0,
             "#0d0887"
            ],
            [
             0.1111111111111111,
             "#46039f"
            ],
            [
             0.2222222222222222,
             "#7201a8"
            ],
            [
             0.3333333333333333,
             "#9c179e"
            ],
            [
             0.4444444444444444,
             "#bd3786"
            ],
            [
             0.5555555555555556,
             "#d8576b"
            ],
            [
             0.6666666666666666,
             "#ed7953"
            ],
            [
             0.7777777777777778,
             "#fb9f3a"
            ],
            [
             0.8888888888888888,
             "#fdca26"
            ],
            [
             1,
             "#f0f921"
            ]
           ],
           "sequentialminus": [
            [
             0,
             "#0d0887"
            ],
            [
             0.1111111111111111,
             "#46039f"
            ],
            [
             0.2222222222222222,
             "#7201a8"
            ],
            [
             0.3333333333333333,
             "#9c179e"
            ],
            [
             0.4444444444444444,
             "#bd3786"
            ],
            [
             0.5555555555555556,
             "#d8576b"
            ],
            [
             0.6666666666666666,
             "#ed7953"
            ],
            [
             0.7777777777777778,
             "#fb9f3a"
            ],
            [
             0.8888888888888888,
             "#fdca26"
            ],
            [
             1,
             "#f0f921"
            ]
           ]
          },
          "colorway": [
           "#636efa",
           "#EF553B",
           "#00cc96",
           "#ab63fa",
           "#FFA15A",
           "#19d3f3",
           "#FF6692",
           "#B6E880",
           "#FF97FF",
           "#FECB52"
          ],
          "font": {
           "color": "#2a3f5f"
          },
          "geo": {
           "bgcolor": "white",
           "lakecolor": "white",
           "landcolor": "#E5ECF6",
           "showlakes": true,
           "showland": true,
           "subunitcolor": "white"
          },
          "hoverlabel": {
           "align": "left"
          },
          "hovermode": "closest",
          "mapbox": {
           "style": "light"
          },
          "paper_bgcolor": "white",
          "plot_bgcolor": "#E5ECF6",
          "polar": {
           "angularaxis": {
            "gridcolor": "white",
            "linecolor": "white",
            "ticks": ""
           },
           "bgcolor": "#E5ECF6",
           "radialaxis": {
            "gridcolor": "white",
            "linecolor": "white",
            "ticks": ""
           }
          },
          "scene": {
           "xaxis": {
            "backgroundcolor": "#E5ECF6",
            "gridcolor": "white",
            "gridwidth": 2,
            "linecolor": "white",
            "showbackground": true,
            "ticks": "",
            "zerolinecolor": "white"
           },
           "yaxis": {
            "backgroundcolor": "#E5ECF6",
            "gridcolor": "white",
            "gridwidth": 2,
            "linecolor": "white",
            "showbackground": true,
            "ticks": "",
            "zerolinecolor": "white"
           },
           "zaxis": {
            "backgroundcolor": "#E5ECF6",
            "gridcolor": "white",
            "gridwidth": 2,
            "linecolor": "white",
            "showbackground": true,
            "ticks": "",
            "zerolinecolor": "white"
           }
          },
          "shapedefaults": {
           "line": {
            "color": "#2a3f5f"
           }
          },
          "ternary": {
           "aaxis": {
            "gridcolor": "white",
            "linecolor": "white",
            "ticks": ""
           },
           "baxis": {
            "gridcolor": "white",
            "linecolor": "white",
            "ticks": ""
           },
           "bgcolor": "#E5ECF6",
           "caxis": {
            "gridcolor": "white",
            "linecolor": "white",
            "ticks": ""
           }
          },
          "title": {
           "x": 0.05
          },
          "xaxis": {
           "automargin": true,
           "gridcolor": "white",
           "linecolor": "white",
           "ticks": "",
           "title": {
            "standoff": 15
           },
           "zerolinecolor": "white",
           "zerolinewidth": 2
          },
          "yaxis": {
           "automargin": true,
           "gridcolor": "white",
           "linecolor": "white",
           "ticks": "",
           "title": {
            "standoff": 15
           },
           "zerolinecolor": "white",
           "zerolinewidth": 2
          }
         }
        },
        "xaxis": {
         "anchor": "y",
         "domain": [
          0,
          1
         ],
         "title": {
          "text": "x"
         }
        },
        "yaxis": {
         "anchor": "x",
         "domain": [
          0,
          1
         ],
         "title": {
          "text": "y"
         }
        }
       }
      }
     },
     "metadata": {},
     "output_type": "display_data"
    }
   ],
   "source": [
    "# Graficar los embedddings en 2D\n",
    "import plotly.graph_objects as go\n",
    "import plotly.express as px\n",
    "\n",
    "x_vals, y_vals, labels = reduce_dimensions(w2v_model)\n",
    "\n",
    "MAX_WORDS=200\n",
    "fig = px.scatter(x=x_vals[:MAX_WORDS], y=y_vals[:MAX_WORDS], text=labels[:MAX_WORDS])\n",
    "#fig.show(renderer=\"colab\") # esto para plotly en colab\n",
    "fig.show()"
   ]
  },
  {
   "cell_type": "markdown",
   "metadata": {},
   "source": [
    "### Palabras relacionadas con el termino corte\n",
    "\n",
    "<img src=\"Corte.png\" width=\"1000\" align=\"center\">"
   ]
  },
  {
   "cell_type": "markdown",
   "metadata": {},
   "source": [
    "### Palabras relacionadas con el termino voto\n",
    "\n",
    "<img src=\"Voto.png\" width=\"1000\" align=\"center\">\n"
   ]
  },
  {
   "cell_type": "markdown",
   "metadata": {},
   "source": [
    "# Conclusiones:\n",
    "\n",
    "- Se entreno un embedding con el corpus de la constitución nacional en español por lo que se utilizo Spacy-Stanza para la tokenizacion y lematizacion del corpus.\n",
    "- Se entreno un embedding con Gensim que es capas de asociar palabras con terminos relacionados a los procesos democraticos descriptos en el corpus y a diferentes poderes del estado.\n"
   ]
  }
 ],
 "metadata": {
  "colab": {
   "collapsed_sections": [],
   "provenance": []
  },
  "kernelspec": {
   "display_name": "Python 3.9.16 ('nlp')",
   "language": "python",
   "name": "python3"
  },
  "language_info": {
   "codemirror_mode": {
    "name": "ipython",
    "version": 3
   },
   "file_extension": ".py",
   "mimetype": "text/x-python",
   "name": "python",
   "nbconvert_exporter": "python",
   "pygments_lexer": "ipython3",
   "version": "3.9.16"
  },
  "vscode": {
   "interpreter": {
    "hash": "6a6f9269d8d0ad70d4c800c7bfd8a67fc7cd4e4d55829f3e7e81e4485901d81b"
   }
  }
 },
 "nbformat": 4,
 "nbformat_minor": 4
}
